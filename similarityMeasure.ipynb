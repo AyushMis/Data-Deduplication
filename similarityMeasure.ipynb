{
 "cells": [
  {
   "cell_type": "code",
   "execution_count": null,
   "metadata": {},
   "outputs": [],
   "source": [
    "import pandas as pd\n",
    "import os\n",
    "import datetime\n",
    "from datetime import date\n",
    "import numpy as np\n",
    "import sys\n",
    "import nbimporter\n",
    "import Utilities as utility\n",
    "\n",
    "from gensim.models import Word2Vec\n",
    "from sklearn.decomposition import PCA\n",
    "\n",
    "from matplotlib import pyplot\n",
    "import jellyfish\n",
    "from sklearn.cluster import KMeans\n",
    "import warnings\n",
    "warnings.filterwarnings(\"ignore\")\n",
    "import csv"
   ]
  },
  {
   "cell_type": "code",
   "execution_count": null,
   "metadata": {},
   "outputs": [],
   "source": [
    "def occurence(name1, name2, clusters):\n",
    "    flag = 0\n",
    "    for cluster in clusters:\n",
    "        if name1 in cluster and name2 in cluster:\n",
    "            flag = 1\n",
    "    return flag"
   ]
  },
  {
   "cell_type": "code",
   "execution_count": null,
   "metadata": {},
   "outputs": [],
   "source": [
    "data  = pd.read_csv('Sample.csv', header=0)\n",
    "data2, data_size = utility.preprocess(data)"
   ]
  },
  {
   "cell_type": "code",
   "execution_count": null,
   "metadata": {},
   "outputs": [],
   "source": [
    "cluster = utility.loadObj('clusteredNames')"
   ]
  },
  {
   "cell_type": "code",
   "execution_count": null,
   "metadata": {},
   "outputs": [],
   "source": [
    "list1 = []\n",
    "for i in range(data_size):\n",
    "    temp = [data2[\"fn\"][i], data2[\"ln\"][i], data2[\"age\"][i], data2[\"gender\"][i]]\n",
    "    list1.append(temp)"
   ]
  },
  {
   "cell_type": "code",
   "execution_count": null,
   "metadata": {},
   "outputs": [],
   "source": [
    "data2[\"name\"] = data2[\"fn\"].str.cat(data2[\"ln\"], sep=\" \")\n",
    "occur = []\n",
    "for i in range(data_size-1):\n",
    "    for j in range(i+1, data_size):\n",
    "        value = occurence(data2[\"name\"][i], data2[\"name\"][j], cluster)\n",
    "        occur.append(value)\n",
    "print(len(occur))"
   ]
  },
  {
   "cell_type": "code",
   "execution_count": null,
   "metadata": {},
   "outputs": [],
   "source": [
    "matrixComp = []\n",
    "matrixComp.append([\"Name1\", \"Name2\", \"Similarity_fn\", \"Similarity_ln\", \"age\",\"gender\", \"Label\"])\n",
    "k=0\n",
    "for i in range(data_size-1):\n",
    "    for j in range(i+1, data_size):\n",
    "        fname_distance = jellyfish.jaro_distance(list1[i][0], list1[j][0])\n",
    "        lname_distance = jellyfish.jaro_distance(list1[i][1], list1[j][1])\n",
    "        matrixComp.append([i, j, fname_distance, lname_distance, list1[i][2],  list1[i][3], occur[k]])\n",
    "        k+=1\n",
    "#print(matrixComp[:50])"
   ]
  },
  {
   "cell_type": "code",
   "execution_count": null,
   "metadata": {},
   "outputs": [],
   "source": [
    "with open(\"output.csv\", \"w\") as f:\n",
    "    writer = csv.writer(f)\n",
    "    writer.writerows(matrixComp)"
   ]
  }
 ],
 "metadata": {
  "kernelspec": {
   "display_name": "Python 3",
   "language": "python",
   "name": "python3"
  },
  "language_info": {
   "codemirror_mode": {
    "name": "ipython",
    "version": 3
   },
   "file_extension": ".py",
   "mimetype": "text/x-python",
   "name": "python",
   "nbconvert_exporter": "python",
   "pygments_lexer": "ipython3",
   "version": "3.5.2"
  }
 },
 "nbformat": 4,
 "nbformat_minor": 2
}
