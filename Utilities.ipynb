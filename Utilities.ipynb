{
 "cells": [
  {
   "cell_type": "code",
   "execution_count": 26,
   "metadata": {},
   "outputs": [],
   "source": [
    "import pandas as pd\n",
    "import os\n",
    "import datetime\n",
    "from datetime import date\n",
    "import numpy as np\n",
    "import sys\n",
    "import pickle\n",
    "from gensim.models import Word2Vec\n",
    "from sklearn.decomposition import PCA\n",
    "from matplotlib import pyplot\n",
    "import jellyfish\n",
    "from sklearn.cluster import KMeans"
   ]
  },
  {
   "cell_type": "code",
   "execution_count": 27,
   "metadata": {},
   "outputs": [],
   "source": [
    "def saveObj(obj, name ):\n",
    "    with open('../objects/'+ name + '.pkl', 'wb') as f:\n",
    "        pickle.dump(obj, f, pickle.HIGHEST_PROTOCOL)"
   ]
  },
  {
   "cell_type": "code",
   "execution_count": 28,
   "metadata": {},
   "outputs": [],
   "source": [
    "def loadObj(name):\n",
    "    with open('../objects/' + name + '.pkl', 'rb') as f:\n",
    "        return pickle.load(f)"
   ]
  },
  {
   "cell_type": "code",
   "execution_count": 29,
   "metadata": {},
   "outputs": [],
   "source": [
    "def preprocess(data):\n",
    "    #Calculating age from dob\n",
    "    now  = pd.Timestamp(datetime.datetime.now())\n",
    "    data['dob'] = data['dob']\n",
    "    data['dob'] = pd.to_datetime(data['dob'], format='%d/%m/%y')\n",
    "    data['dob'] = data['dob'].where(data['dob'] < now, data['dob'] -  np.timedelta64(100, 'Y'))\n",
    "    data['age'] = (now - data['dob']).astype('<m8[Y]')\n",
    "    \n",
    "    #dropping dob column\n",
    "    data2 = data.drop('dob', 1)\n",
    "    \n",
    "    #Gender assignment\n",
    "    data2.rename(columns={'gn': 'gender'}, inplace=True)\n",
    "    for i,gen in enumerate(data2.gender):\n",
    "        if gen==\"F\":\n",
    "            data2.gender[i] = 1\n",
    "        elif gen==\"M\":\n",
    "            data2.gender[i] = 0\n",
    "        else:\n",
    "            data2.gender[i] = -1\n",
    "    \n",
    "    #size of data\n",
    "    l = len(data2)\n",
    "    return (data2, l)"
   ]
  },
  {
   "cell_type": "code",
   "execution_count": 2,
   "metadata": {},
   "outputs": [],
   "source": [
    "def clustering(data, data_size):\n",
    "    cluster = []\n",
    "    for i in range(0,data_size):\n",
    "        temp = []\n",
    "        flag = 1\n",
    "        x = data[\"fn\"][i] + ' ' + data[\"ln\"][i]\n",
    "        for j in range(len(cluster)):\n",
    "            if x in cluster[j]:\n",
    "                flag=0\n",
    "        if flag==1:\n",
    "            temp.append(x)\n",
    "            for j in range(i+1,data_size):\n",
    "                if (data[\"age\"][i]==data[\"age\"][j] and data[\"gender\"][i]==data[\"gender\"][j] and data[\"ln\"][i]==data[\"ln\"][j]):\n",
    "                    y = data[\"fn\"][j] + ' ' + data[\"ln\"][j]\n",
    "                    temp.append(y)\n",
    "            cluster.append(temp)\n",
    "    return cluster"
   ]
  }
 ],
 "metadata": {
  "kernelspec": {
   "display_name": "Python 3",
   "language": "python",
   "name": "python3"
  },
  "language_info": {
   "codemirror_mode": {
    "name": "ipython",
    "version": 3
   },
   "file_extension": ".py",
   "mimetype": "text/x-python",
   "name": "python",
   "nbconvert_exporter": "python",
   "pygments_lexer": "ipython3",
   "version": "3.5.2"
  }
 },
 "nbformat": 4,
 "nbformat_minor": 2
}
